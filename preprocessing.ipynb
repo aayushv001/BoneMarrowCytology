{
 "cells": [
  {
   "cell_type": "code",
   "id": "initial_id",
   "metadata": {
    "collapsed": true,
    "ExecuteTime": {
     "end_time": "2024-11-24T21:55:58.859883Z",
     "start_time": "2024-11-24T21:55:58.854160Z"
    }
   },
   "source": [
    "from torch import nn\n",
    "import torch\n",
    "import os\n",
    "import shutil\n",
    "from tqdm.notebook import tqdm\n",
    "from random import randint\n",
    "import splitfolders"
   ],
   "outputs": [],
   "execution_count": 13
  },
  {
   "metadata": {
    "ExecuteTime": {
     "end_time": "2024-11-24T21:32:19.296785Z",
     "start_time": "2024-11-24T21:32:19.294688Z"
    }
   },
   "cell_type": "code",
   "source": [
    "base_path = \"./PKG - Bone-Marrow-Cytomorphology_MLL_Helmholtz_Fraunhofer_v1/Bone-Marrow-Cytomorphology/jpgs/BM_cytomorphology_data\"\n",
    "classes = os.listdir(base_path)"
   ],
   "id": "e7b4cb54c1c2344b",
   "outputs": [],
   "execution_count": 2
  },
  {
   "metadata": {
    "ExecuteTime": {
     "end_time": "2024-11-24T21:32:19.654854Z",
     "start_time": "2024-11-24T21:32:19.651596Z"
    }
   },
   "cell_type": "code",
   "source": "classes = [_class for _class in classes if _class != \".DS_Store\"]",
   "id": "3a4b3d9eafbd5a68",
   "outputs": [],
   "execution_count": 3
  },
  {
   "metadata": {
    "ExecuteTime": {
     "end_time": "2024-11-24T21:32:20.197879Z",
     "start_time": "2024-11-24T21:32:20.192027Z"
    }
   },
   "cell_type": "code",
   "source": "classes",
   "id": "cafc9eefd49e1a50",
   "outputs": [
    {
     "data": {
      "text/plain": [
       "['PLM',\n",
       " 'ABE',\n",
       " 'PEB',\n",
       " 'KSC',\n",
       " 'NGB',\n",
       " 'ART',\n",
       " 'HAC',\n",
       " 'MON',\n",
       " 'PMO',\n",
       " 'MMZ',\n",
       " 'EBO',\n",
       " 'BLA',\n",
       " 'MYB',\n",
       " 'NIF',\n",
       " 'OTH',\n",
       " 'NGS',\n",
       " 'BAS',\n",
       " 'FGC',\n",
       " 'LYT',\n",
       " 'EOS',\n",
       " 'LYI']"
      ]
     },
     "execution_count": 4,
     "metadata": {},
     "output_type": "execute_result"
    }
   ],
   "execution_count": 4
  },
  {
   "metadata": {
    "ExecuteTime": {
     "end_time": "2024-11-24T21:32:21.476439Z",
     "start_time": "2024-11-24T21:32:21.472961Z"
    }
   },
   "cell_type": "code",
   "source": [
    "class_to_copy = [\"ART\"\n",
    "\"BLA\",\n",
    "\"EBO\",\n",
    "\"EOS\",\n",
    "\"LYT\",\n",
    "\"MMZ\",\n",
    "\"MON\",\n",
    "\"MYB\",\n",
    "\"NGB\",\n",
    "\"NGS\",\n",
    "\"NIF\",\n",
    "\"PEB\",\n",
    "\"PLM\",\n",
    "\"PMO\"]\n"
   ],
   "id": "32b2449baaa52341",
   "outputs": [],
   "execution_count": 5
  },
  {
   "metadata": {
    "ExecuteTime": {
     "end_time": "2024-11-24T21:33:15.425587Z",
     "start_time": "2024-11-24T21:32:22.163039Z"
    }
   },
   "cell_type": "code",
   "source": [
    "for _class in tqdm(classes):\n",
    "    if _class in class_to_copy:\n",
    "        shutil.copytree(base_path+\"/\"+_class,\"./data/\"+_class)"
   ],
   "id": "74a9b8cc148a032e",
   "outputs": [
    {
     "data": {
      "text/plain": [
       "  0%|          | 0/21 [00:00<?, ?it/s]"
      ],
      "application/vnd.jupyter.widget-view+json": {
       "version_major": 2,
       "version_minor": 0,
       "model_id": "f759df6ab4ce4ef88291270fba37ee52"
      }
     },
     "metadata": {},
     "output_type": "display_data"
    }
   ],
   "execution_count": 6
  },
  {
   "metadata": {
    "ExecuteTime": {
     "end_time": "2024-11-24T22:08:40.737635Z",
     "start_time": "2024-11-24T22:08:40.734519Z"
    }
   },
   "cell_type": "code",
   "source": "classes = os.listdir(\"./data\")",
   "id": "55c15a5b83bbb118",
   "outputs": [],
   "execution_count": 16
  },
  {
   "metadata": {
    "ExecuteTime": {
     "end_time": "2024-11-24T22:12:28.994342Z",
     "start_time": "2024-11-24T22:11:27.515756Z"
    }
   },
   "cell_type": "code",
   "source": [
    "for _class in tqdm(classes):\n",
    "    for breaks in [x for x in os.listdir(\"./data/\"+_class) if x!=\".DS_Store\"]:\n",
    "        for img in [x for x in os.listdir(\"./data/\"+_class+\"/\"+breaks) if x!=\".DS_Store\"]:\n",
    "            if not os.path.exists(\"./Formatted/\"+_class):\n",
    "                os.makedirs(\"./Formatted/\"+_class)\n",
    "            shutil.copyfile(\"./data/\"+_class+\"/\"+breaks+\"/\"+img,\"./Formatted/\"+_class+\"/\"+img)"
   ],
   "id": "a33a0306fd7bbab",
   "outputs": [
    {
     "data": {
      "text/plain": [
       "  0%|          | 0/14 [00:00<?, ?it/s]"
      ],
      "application/vnd.jupyter.widget-view+json": {
       "version_major": 2,
       "version_minor": 0,
       "model_id": "ee47f90c7cf8431db51bff223ccab3dc"
      }
     },
     "metadata": {},
     "output_type": "display_data"
    }
   ],
   "execution_count": 18
  },
  {
   "metadata": {
    "ExecuteTime": {
     "end_time": "2024-11-24T22:16:11.821227Z",
     "start_time": "2024-11-24T22:15:05.187343Z"
    }
   },
   "cell_type": "code",
   "source": "splitfolders.ratio(\"./Formatted\", output = \"./splits\",seed = 1337,ratio = (.75,.1,.15))",
   "id": "dde4f25df3dd49de",
   "outputs": [
    {
     "name": "stderr",
     "output_type": "stream",
     "text": [
      "Copying files: 170067 files [01:06, 2552.59 files/s]\n"
     ]
    }
   ],
   "execution_count": 19
  },
  {
   "metadata": {},
   "cell_type": "code",
   "outputs": [],
   "execution_count": null,
   "source": "",
   "id": "79c329b263f21f64"
  }
 ],
 "metadata": {
  "kernelspec": {
   "display_name": "Python 3",
   "language": "python",
   "name": "python3"
  },
  "language_info": {
   "codemirror_mode": {
    "name": "ipython",
    "version": 2
   },
   "file_extension": ".py",
   "mimetype": "text/x-python",
   "name": "python",
   "nbconvert_exporter": "python",
   "pygments_lexer": "ipython2",
   "version": "2.7.6"
  }
 },
 "nbformat": 4,
 "nbformat_minor": 5
}
